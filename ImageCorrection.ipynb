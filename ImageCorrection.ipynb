{
 "cells": [
  {
   "cell_type": "markdown",
   "id": "7d7d1900",
   "metadata": {},
   "source": [
    "# Image Reduction for Imaging Project\n",
    "This notebook illustrates how to use `ccdred_sb`. To run this notebook you will need to download the raw artificial images from the [companion website for my textbook *A Practical Guide to Observational Astronomy*](https://mshaneburns.github.io/ObsAstro/). Place the images in a subdirectory called `images`. \n",
    "\n",
    "In this example, I assume that we don't need to make a dark current correction and that all of the object images are all taken in the same bandpass so we don't need separate flats for each bandpass."
   ]
  },
  {
   "cell_type": "markdown",
   "id": "0d56647f",
   "metadata": {},
   "source": [
    "## Make lists of files to process\n",
    "The functions in `ccdred_sb` require a text file containing a list of the images to be proccesed. You can create the text files anyway you like, but I used the following unix commands to create three lists. The file `zero_list.txt` contains all of the bias frame file names, `flat_list.txt` contains the flat field file names, and `object_list.txt` contains the names of the files to be processed. The unix session starts in the directory contaning this notebook (called `myProject` in this case), and `ccdred_sb`.\n",
    "\n",
    "I deleted all of the processed images in the `images` directory before executing these commands."
   ]
  },
  {
   "cell_type": "markdown",
   "id": "40e2d521",
   "metadata": {},
   "source": [
    "```unix\n",
    "myProject % cd images\n",
    "images % ls -1 bias*.fits > ../zero_list.txt\n",
    "images % ls -1 flat*.fits > ../flat_list.txt\n",
    "images % ls -1 star*.fits > ../object_list.txt\n",
    "images % ls -1 gal*.fits >> ../object_list.txt\n",
    "images % \n",
    "```"
   ]
  },
  {
   "cell_type": "markdown",
   "id": "fd60588b",
   "metadata": {},
   "source": [
    "## Process the images\n",
    "In order to process the data I will\n",
    "\n",
    "1. Create a master bias frame called `Zero.fits`\n",
    "2. Create master flat frame called `Flat.fit`. If we needed to process images in other bandpasses we would need a flat frame for each bandpass.\n",
    "3. Run `ccdproc` to correct the object images. \n",
    "\n",
    "I also have **DS9** open on my desktop to examine the images after each step to make sure the process worked correctly. I find this easier than displaying the image using `imshow()`."
   ]
  },
  {
   "cell_type": "markdown",
   "id": "71630ca7",
   "metadata": {},
   "source": [
    "I start by importing the needed modules"
   ]
  },
  {
   "cell_type": "code",
   "execution_count": 1,
   "id": "7bfc488b",
   "metadata": {},
   "outputs": [],
   "source": [
    "import ccdred_sb as cc"
   ]
  },
  {
   "cell_type": "markdown",
   "id": "9c7d7f4f",
   "metadata": {},
   "source": [
    "### Create master bias frame\n",
    "I use `cc.zerocombine()`. You can use `help()` to understand its arguments and how it works."
   ]
  },
  {
   "cell_type": "code",
   "execution_count": 2,
   "id": "6a2783dc",
   "metadata": {},
   "outputs": [
    {
     "name": "stdout",
     "output_type": "stream",
     "text": [
      "Help on function zerocombine in module ccdred_sb:\n",
      "\n",
      "zerocombine(imdir='images/', input_list='zero_list.txt', output='Zero')\n",
      "    Make master bias image.\n",
      "    \n",
      "    Like IRAF's `zerocombine`. It currently combines the frames by\n",
      "    averaging all of the bias frames listed in the `input_list`. It writes\n",
      "    out a FITS file with the name given by the `output` parameter. Prints the\n",
      "    `mean` and `sigma` (standard deviation) of the output file's pixel values.\n",
      "    \n",
      "    Parameters\n",
      "    ----------\n",
      "    imdir : str\n",
      "        Path to image directory (must include trailing '/')\n",
      "    input_list : str\n",
      "        Name of file containing list of filenames\n",
      "    output : str\n",
      "        Name for the output FITS file.\n",
      "    \n",
      "    Returns\n",
      "    -------\n",
      "    fout_name : str\n",
      "        Name with `.fits` extension of created file\n",
      "\n"
     ]
    }
   ],
   "source": [
    "help(cc.zerocombine)"
   ]
  },
  {
   "cell_type": "markdown",
   "id": "8b4ff38f",
   "metadata": {},
   "source": [
    "We won't have to change any of the default arguments since all of our images are in the `images` directory and the list of bias frames is called `zero_list.txt`."
   ]
  },
  {
   "cell_type": "code",
   "execution_count": 3,
   "id": "5de20d79",
   "metadata": {},
   "outputs": [
    {
     "name": "stdout",
     "output_type": "stream",
     "text": [
      "Reading bias01.fits\n",
      "Reading bias02.fits\n",
      "Reading bias03.fits\n",
      "Reading bias04.fits\n",
      "Reading bias05.fits\n",
      "Reading bias06.fits\n",
      "Reading bias07.fits\n",
      "Reading bias08.fits\n",
      "Reading bias09.fits\n",
      "Reading bias10.fits\n",
      "zerocombine output file name: Zero.fits\n",
      "    mean pixel value = 349.995697\n",
      "    standard deviation = 2.611144\n"
     ]
    },
    {
     "data": {
      "text/plain": [
       "'Zero.fits'"
      ]
     },
     "execution_count": 3,
     "metadata": {},
     "output_type": "execute_result"
    }
   ],
   "source": [
    "cc.zerocombine()"
   ]
  },
  {
   "cell_type": "markdown",
   "id": "a7042702",
   "metadata": {},
   "source": [
    "I examined the image using **DS9** and it looks like what I expected and the signal level is about 942. This is also what I expected. "
   ]
  },
  {
   "cell_type": "markdown",
   "id": "b110b7ce",
   "metadata": {},
   "source": [
    "## Create the master flat field \n",
    "These images are called flat field images, but they are efficiency maps of the CCD and optical system. If we were processing data in more than one bandpass we would need to create one for each filter. Let's use `help()` to determine how we need to reset parameters for the `cc.flatcombine()` function."
   ]
  },
  {
   "cell_type": "code",
   "execution_count": 4,
   "id": "82353e8e",
   "metadata": {},
   "outputs": [
    {
     "name": "stdout",
     "output_type": "stream",
     "text": [
      "Help on function flatcombine in module ccdred_sb:\n",
      "\n",
      "flatcombine(imdir='images/', input_list='flat_list.txt', output='Flat', zero_sub=True, zero_file='Zero.fits', dark_correction=False, dark_file='Dark.fits')\n",
      "    Like IRAF's `flatcombine`.\n",
      "    \n",
      "    It currently works by: \n",
      "    \n",
      "    1. Subtract `zero_file` from each file in `input_list` if `zero_sub = True`\n",
      "    2. Compute median pixel value for each file in `input_list`\n",
      "    3. Create the master efficiency map file with name specified by `output`\n",
      "    \n",
      "    Parameters\n",
      "    ----------\n",
      "    imdir : str\n",
      "        Path to image directory (must include trailing '/')\n",
      "    input_list : str\n",
      "        Name of file containing list of filenames\n",
      "    output : str\n",
      "        Name for the output FITS file.\n",
      "    zero_sub : boolean\n",
      "        Flag for bias subtraction\n",
      "    zero_file : str\n",
      "        Name of bias file for bias subraction        \n",
      "    dark_correction : boolean\n",
      "        Flag for dark subtraction\n",
      "    dark_file : str\n",
      "        Name of dark file for dark subraction        \n",
      "    Returns\n",
      "    -------\n",
      "    fout_name : str\n",
      "        Name with `.fits` extension of created file\n",
      "\n"
     ]
    }
   ],
   "source": [
    "help(cc.flatcombine)"
   ]
  },
  {
   "cell_type": "markdown",
   "id": "e064448f",
   "metadata": {},
   "source": [
    "Again we don't need to change any of the fuctions parameter."
   ]
  },
  {
   "cell_type": "code",
   "execution_count": 5,
   "id": "5095d562",
   "metadata": {},
   "outputs": [
    {
     "name": "stdout",
     "output_type": "stream",
     "text": [
      "Reading flat01.fits\n",
      "Reading flat02.fits\n",
      "Reading flat03.fits\n",
      "Reading flat04.fits\n",
      "Reading flat05.fits\n",
      "Flat image meadian = 56840.244102\n",
      "Flat image meadian = 54879.661381\n",
      "Flat image meadian = 52918.781507\n",
      "Flat image meadian = 50959.597832\n",
      "Flat image meadian = 48999.796750\n",
      "Warning: 'FILTER' header keyword not found.\n",
      "         File name set to: Flat.fits\n",
      "         'FILTER' set to 'none'\n",
      "flatcombine output file name: Flat.fits\n"
     ]
    },
    {
     "data": {
      "text/plain": [
       "'Flat.fits'"
      ]
     },
     "execution_count": 5,
     "metadata": {},
     "output_type": "execute_result"
    }
   ],
   "source": [
    "cc.flatcombine()"
   ]
  },
  {
   "cell_type": "markdown",
   "id": "730c0225",
   "metadata": {},
   "source": [
    "The file looks like what I expect an efficiency map should. It's average pixel value is about 1.0 which it should be for an efficiency map."
   ]
  },
  {
   "cell_type": "markdown",
   "id": "e3b05b2c",
   "metadata": {},
   "source": [
    "By examining with **DS9** it seems that both of these images are correct as well."
   ]
  },
  {
   "cell_type": "markdown",
   "id": "e1480784",
   "metadata": {},
   "source": [
    "# Proccess the object images\n",
    "Again I start by getting help for the function."
   ]
  },
  {
   "cell_type": "code",
   "execution_count": 6,
   "id": "abfa0c16",
   "metadata": {},
   "outputs": [
    {
     "name": "stdout",
     "output_type": "stream",
     "text": [
      "Help on function ccdproc in module ccdred_sb:\n",
      "\n",
      "ccdproc(imdir='images/', input_list='object_list.txt', output_list=None, zero_file='Zero.fits', flat_file='Flat.fits', dark_correction=False, dark_file='Dark.fits')\n",
      "    Like IRAF's `ccdproc`.\n",
      "    \n",
      "    It currently works by: \n",
      "    \n",
      "    1. Subtract `zero_file` from each file in the `input_list` \n",
      "    2. Divide by `flat_file` from each file in the `input_list`\n",
      "    3. Write processed FITS files with name specified by `output_list`\n",
      "    \n",
      "    Parameters\n",
      "    ----------\n",
      "    input_list : str\n",
      "        Name of file containing list of input file names\n",
      "    output_list : str\n",
      "        Name of file containing output file names. If `output_list = None` the\n",
      "        filenames are the same as those in `input_list` with `_p` appended.\n",
      "    zero_file : str\n",
      "        Name of bias correction file\n",
      "    flat_file : str\n",
      "        Name of flat correction file       \n",
      "    dark_correction : boolean\n",
      "        applies dark correction if True\n",
      "    dark_file : str\n",
      "        dark current image file name\n",
      "        \n",
      "    Returns\n",
      "    -------\n",
      "    fout_list : list of str\n",
      "        List of names of the processed images.\n",
      "\n"
     ]
    }
   ],
   "source": [
    "help(cc.ccdproc)"
   ]
  },
  {
   "cell_type": "markdown",
   "id": "8c89be7b",
   "metadata": {},
   "source": [
    "We don't need to change any function parameters."
   ]
  },
  {
   "cell_type": "code",
   "execution_count": 7,
   "id": "9f318678",
   "metadata": {},
   "outputs": [
    {
     "name": "stdout",
     "output_type": "stream",
     "text": [
      "Running ccdproc\n",
      "Reading stars01.fits\n",
      "Reading stars02.fits\n",
      "Reading stars03.fits\n",
      "Reading stars04.fits\n",
      "Reading stars05.fits\n",
      "Reading gal_new.fits\n",
      "Reading gal_ref.fits\n",
      "Using zero image: Zero.fits\n",
      "Using flat image: Flat.fits\n",
      "Warning: 'RDNOISE' header keyword not found.\n",
      "Warning: 'FILTER' header keyword not found.\n",
      "Writing file stars01_p.fits\n",
      "\n",
      "Using zero image: Zero.fits\n",
      "Using flat image: Flat.fits\n",
      "Warning: 'RDNOISE' header keyword not found.\n",
      "Warning: 'FILTER' header keyword not found.\n",
      "Writing file stars02_p.fits\n",
      "\n",
      "Using zero image: Zero.fits\n",
      "Using flat image: Flat.fits\n",
      "Warning: 'RDNOISE' header keyword not found.\n",
      "Warning: 'FILTER' header keyword not found.\n",
      "Writing file stars03_p.fits\n",
      "\n",
      "Using zero image: Zero.fits\n",
      "Using flat image: Flat.fits\n",
      "Warning: 'RDNOISE' header keyword not found.\n",
      "Warning: 'FILTER' header keyword not found.\n",
      "Writing file stars04_p.fits\n",
      "\n",
      "Using zero image: Zero.fits\n",
      "Using flat image: Flat.fits\n",
      "Warning: 'RDNOISE' header keyword not found.\n",
      "Warning: 'FILTER' header keyword not found.\n",
      "Writing file stars05_p.fits\n",
      "\n",
      "Using zero image: Zero.fits\n",
      "Using flat image: Flat.fits\n",
      "Warning: 'RDNOISE' header keyword not found.\n",
      "Warning: 'FILTER' header keyword not found.\n",
      "Writing file gal_new_p.fits\n",
      "\n",
      "Using zero image: Zero.fits\n",
      "Using flat image: Flat.fits\n",
      "Warning: 'RDNOISE' header keyword not found.\n",
      "Warning: 'FILTER' header keyword not found.\n",
      "Writing file gal_ref_p.fits\n",
      "\n"
     ]
    },
    {
     "data": {
      "text/plain": [
       "['stars01_p.fits',\n",
       " 'stars02_p.fits',\n",
       " 'stars03_p.fits',\n",
       " 'stars04_p.fits',\n",
       " 'stars05_p.fits',\n",
       " 'gal_new_p.fits',\n",
       " 'gal_ref_p.fits']"
      ]
     },
     "execution_count": 7,
     "metadata": {},
     "output_type": "execute_result"
    }
   ],
   "source": [
    "cc.ccdproc()"
   ]
  },
  {
   "cell_type": "markdown",
   "id": "5565f8a4",
   "metadata": {},
   "source": [
    "The final step is to examine the images to make sure they look reasonable. The final processed object images have the same name as the raw images, but with an `_p` appended. "
   ]
  },
  {
   "cell_type": "code",
   "execution_count": null,
   "id": "2329cd24",
   "metadata": {},
   "outputs": [],
   "source": []
  }
 ],
 "metadata": {
  "kernelspec": {
   "display_name": "Python 3 (ipykernel)",
   "language": "python",
   "name": "python3"
  },
  "language_info": {
   "codemirror_mode": {
    "name": "ipython",
    "version": 3
   },
   "file_extension": ".py",
   "mimetype": "text/x-python",
   "name": "python",
   "nbconvert_exporter": "python",
   "pygments_lexer": "ipython3",
   "version": "3.8.10"
  }
 },
 "nbformat": 4,
 "nbformat_minor": 5
}
