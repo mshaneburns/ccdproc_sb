{
 "cells": [
  {
   "cell_type": "markdown",
   "id": "7d7d1900",
   "metadata": {},
   "source": [
    "# Image Reduction for Imaging Project\n",
    "This notebook will describe how I processed the images for the data we took on 2021-10-05. I first loaded all of the images into a subdirectory called `images`. Eli was kind enough to give me the files that he created containing all of the image lists. They are listed below."
   ]
  },
  {
   "cell_type": "code",
   "execution_count": 1,
   "id": "3aac2da0",
   "metadata": {},
   "outputs": [
    {
     "name": "stdout",
     "output_type": "stream",
     "text": [
      "dark_list.txt      flat_r_list.txt    object_b_list.txt  object_v_list.txt\r\n",
      "flat_b_list.txt    flat_v_list.txt    object_r_list.txt  zero_list.txt\r\n"
     ]
    }
   ],
   "source": [
    "ls *.txt"
   ]
  },
  {
   "cell_type": "markdown",
   "id": "fd60588b",
   "metadata": {},
   "source": [
    "In order to process the data we will\n",
    "\n",
    "1. Create a master bias frame called `Zero.fits`\n",
    "2. Create a master dark current frame called `Dark.fits`\n",
    "3. Create master efficiency map frames. We need one frame for each filter. They will be called `Flat_B.fits`, `Flat_V.fits`, and `Flat_R.fits`.\n",
    "4. Run `ccdproc` to correct the object images. We have to do this separately for images taken with the *B*, *V*, and *R* filters.\n",
    "\n",
    "I will also have **DS9** open on my desktop to examine the images after each step to make sure the process worked correctly. I find this easier than displaying the image using `imshow()`."
   ]
  },
  {
   "cell_type": "markdown",
   "id": "71630ca7",
   "metadata": {},
   "source": [
    "I start by importing the needed modules"
   ]
  },
  {
   "cell_type": "code",
   "execution_count": 2,
   "id": "7bfc488b",
   "metadata": {},
   "outputs": [],
   "source": [
    "import ccdred_sb as cc"
   ]
  },
  {
   "cell_type": "markdown",
   "id": "9c7d7f4f",
   "metadata": {},
   "source": [
    "## Create master bias frame\n",
    "We will use `cc.zerocombine()`. Lets use `help()` to understand its arguments and how it works."
   ]
  },
  {
   "cell_type": "code",
   "execution_count": 3,
   "id": "6a2783dc",
   "metadata": {},
   "outputs": [
    {
     "name": "stdout",
     "output_type": "stream",
     "text": [
      "Help on function zerocombine in module ccdred_sb:\n",
      "\n",
      "zerocombine(imdir='images/', input_list='zero_list.txt', output='Zero')\n",
      "    Like IRAF's `zerocombine`. It currently combines the frames by\n",
      "    averaging all of the bias frames listed in the `input_list`. It writes\n",
      "    out a FITS file with the name given by the `output` parameter. Prints the\n",
      "    `mean` and `sigma` (standard deviation) of the output file's pixel values.\n",
      "    \n",
      "    Parameters\n",
      "    ----------\n",
      "    imdir : str\n",
      "        Path to image directory (must include trailing '/')\n",
      "    input_list : str\n",
      "        Name of file containing list of filenames\n",
      "    output : str\n",
      "        Name for the output FITS file.\n",
      "    \n",
      "    Returns\n",
      "    -------\n",
      "    fout_name : str\n",
      "        Name with `.fits` extension of created file\n",
      "\n"
     ]
    }
   ],
   "source": [
    "help(cc.zerocombine)"
   ]
  },
  {
   "cell_type": "markdown",
   "id": "8b4ff38f",
   "metadata": {},
   "source": [
    "We won't have to change any of the default arguments since all of our images are in the `images` directory and the list of bias frames is called `zero_list.txt`."
   ]
  },
  {
   "cell_type": "code",
   "execution_count": 4,
   "id": "5de20d79",
   "metadata": {},
   "outputs": [
    {
     "name": "stdout",
     "output_type": "stream",
     "text": [
      "Reading 20211005_043.fits\n",
      "Reading 20211005_044.fits\n",
      "Reading 20211005_045.fits\n",
      "Reading 20211005_046.fits\n",
      "Reading 20211005_047.fits\n",
      "Reading 20211005_048.fits\n",
      "Reading 20211005_049.fits\n",
      "Reading 20211005_050.fits\n",
      "Reading 20211005_051.fits\n",
      "Reading 20211005_042.fits\n",
      "Warning: 'GAIN' header keyword not found.\n",
      "Warning: 'RDNOISE' header keyword not found.\n",
      "zerocombine output file name: Zero.fits\n",
      "    mean pixel value = 924.462668\n",
      "    standard deviation = 3.877027\n"
     ]
    },
    {
     "data": {
      "text/plain": [
       "'Zero.fits'"
      ]
     },
     "execution_count": 4,
     "metadata": {},
     "output_type": "execute_result"
    }
   ],
   "source": [
    "cc.zerocombine()"
   ]
  },
  {
   "cell_type": "markdown",
   "id": "a7042702",
   "metadata": {},
   "source": [
    "I examined the image using **DS9** and it looks like what I expected and the signal level is about 942. This is also what I expected. "
   ]
  },
  {
   "cell_type": "markdown",
   "id": "1003120c",
   "metadata": {},
   "source": [
    "## Create master dark current image\n",
    "Again I use `help(cc.darkcombine)` to make sure I have the `cc.darkcombine` function's parameters are set correctly."
   ]
  },
  {
   "cell_type": "code",
   "execution_count": 5,
   "id": "b7659a8f",
   "metadata": {},
   "outputs": [
    {
     "name": "stdout",
     "output_type": "stream",
     "text": [
      "Help on function darkcombine in module ccdred_sb:\n",
      "\n",
      "darkcombine(imdir='images/', input_list='dark_list.txt', output='Dark')\n",
      "    Like IRAF's `darkcombine`. Creates dark current images and then it\n",
      "    currently combines the frames by averaging all of the dark current\n",
      "    frames listed in the `input_list`. It writes out a FITS file with the name\n",
      "    given by the `output` parameter. \n",
      "    \n",
      "    Parameters\n",
      "    ----------\n",
      "    imdir : str\n",
      "        Path to image directory (must include trailing '/')\n",
      "    input_list : str\n",
      "        Name of file containing list of filenames\n",
      "    output : str\n",
      "        Name for the output FITS file.\n",
      "    \n",
      "    Returns\n",
      "    -------\n",
      "    fout_name : str\n",
      "        Name with `.fits` extension of created file\n",
      "\n"
     ]
    }
   ],
   "source": [
    "help(cc.darkcombine)"
   ]
  },
  {
   "cell_type": "markdown",
   "id": "3a20ae78",
   "metadata": {},
   "source": [
    "Again, I don't need to change any of the functions parameters."
   ]
  },
  {
   "cell_type": "code",
   "execution_count": 6,
   "id": "fadcae22",
   "metadata": {},
   "outputs": [
    {
     "name": "stdout",
     "output_type": "stream",
     "text": [
      "Reading 20211005_052.fits\n",
      "Reading 20211005_053.fits\n",
      "Reading 20211005_054.fits\n",
      "Reading 20211005_055.fits\n",
      "Reading 20211005_056.fits\n",
      "the exposure time is 300\n",
      "the exposure time is 300\n",
      "the exposure time is 300\n",
      "the exposure time is 300\n",
      "the exposure time is 300\n",
      "dark_data type <class 'numpy.ndarray'>\n",
      "Warning: 'GAIN' header keyword not found.\n",
      "Warning: 'RDNOISE' header keyword not found.\n",
      "darkcombine output file name: Dark.fits\n",
      "    mean pixel value = 3.112430\n",
      "    standard deviation = 1.046245\n"
     ]
    },
    {
     "data": {
      "text/plain": [
       "'Dark.fits'"
      ]
     },
     "execution_count": 6,
     "metadata": {},
     "output_type": "execute_result"
    }
   ],
   "source": [
    "cc.darkcombine()"
   ]
  },
  {
   "cell_type": "markdown",
   "id": "24646543",
   "metadata": {},
   "source": [
    "The dark frame looks like what I expect and the pixel values have a mean value of 3.1 pixels. We can get the mean dark current in electrons/sec by multiplying this number by the CCD gain. This information isn't written in the header under the `GAIN` keyword, but we know the number from the manufacturer is 2.2 electrons/ADU so the dark current is about 7 electrons. This is a reasonable number for this CCD cooled to -24C. "
   ]
  },
  {
   "cell_type": "markdown",
   "id": "b110b7ce",
   "metadata": {},
   "source": [
    "## Create master efficiency maps\n",
    "Efficiency maps are sometimes simply called flat field images. We need to create one for each filter. Let's use `help()` to determine how we need to reset parameters for the `cc.flatcombine()` function."
   ]
  },
  {
   "cell_type": "code",
   "execution_count": 7,
   "id": "82353e8e",
   "metadata": {},
   "outputs": [
    {
     "name": "stdout",
     "output_type": "stream",
     "text": [
      "Help on function flatcombine in module ccdred_sb:\n",
      "\n",
      "flatcombine(imdir='images/', input_list='flat_list.txt', output='Flat', zero_sub=True, zero_file='Zero.fits', dark_correction=False, dark_file='Dark.fits')\n",
      "    Like IRAF's `flatcombine`. \n",
      "    \n",
      "    It currently works by: \n",
      "    \n",
      "    1. Subtract `zero_file` from each file in `input_list` if `zero_sub = True`\n",
      "    2. Compute median pixel value for each file in `input_list`\n",
      "    3. Create the master efficiency map file with name specified by `output`\n",
      "    \n",
      "    Parameters\n",
      "    ----------\n",
      "    imdir : str\n",
      "        Path to image directory (must include trailing '/')\n",
      "    input_list : str\n",
      "        Name of file containing list of filenames\n",
      "    output : str\n",
      "        Name for the output FITS file.\n",
      "    zero_sub : boolean\n",
      "        Flag for bias subtraction\n",
      "    zero_file : str\n",
      "        Name of bias file for bias subraction        \n",
      "    dark_correction : boolean\n",
      "        Flag for dark subtraction\n",
      "    dark_file : str\n",
      "        Name of dark file for dark subraction        \n",
      "    Returns\n",
      "    -------\n",
      "    fout_name : str\n",
      "        Name with `.fits` extension of created file\n",
      "\n"
     ]
    }
   ],
   "source": [
    "help(cc.flatcombine)"
   ]
  },
  {
   "cell_type": "markdown",
   "id": "e064448f",
   "metadata": {},
   "source": [
    "Ther are two parameters that we must reset from their default values. We need to set the `input_list` to the list for each of the three filters, and we have to set `dark_correction` to `True` since the data from this CCD requires a dark current correction."
   ]
  },
  {
   "cell_type": "code",
   "execution_count": 8,
   "id": "5095d562",
   "metadata": {},
   "outputs": [
    {
     "name": "stdout",
     "output_type": "stream",
     "text": [
      "Reading 20211005_001.fits\n",
      "Reading 20211005_002.fits\n",
      "Reading 20211005_003.fits\n",
      "Reading 20211005_004.fits\n",
      "Reading 20211005_005.fits\n",
      "Dark current correction with Dark.fits: \n",
      "Flat image meadian = 26822.412000\n",
      "Dark current correction with Dark.fits: \n",
      "Flat image meadian = 25337.479500\n",
      "Dark current correction with Dark.fits: \n",
      "Flat image meadian = 20605.644000\n",
      "Dark current correction with Dark.fits: \n",
      "Flat image meadian = 22690.981667\n",
      "Dark current correction with Dark.fits: \n",
      "Flat image meadian = 22871.187000\n",
      "Warning: 'GAIN' header keyword not found.\n",
      "Warning: 'RDNOISE' header keyword not found.\n",
      "flatcombine output file name: Flat_B.fits\n"
     ]
    },
    {
     "data": {
      "text/plain": [
       "'Flat_B.fits'"
      ]
     },
     "execution_count": 8,
     "metadata": {},
     "output_type": "execute_result"
    }
   ],
   "source": [
    "cc.flatcombine(input_list='flat_b_list.txt', dark_correction=True)"
   ]
  },
  {
   "cell_type": "markdown",
   "id": "730c0225",
   "metadata": {},
   "source": [
    "The file looks like what I expect an efficiency map should. It's average pixel value is about 1.0 which it should be for an efficiency map."
   ]
  },
  {
   "cell_type": "code",
   "execution_count": 9,
   "id": "9e90f8c8",
   "metadata": {},
   "outputs": [
    {
     "name": "stdout",
     "output_type": "stream",
     "text": [
      "Reading 20211005_006.fits\n",
      "Reading 20211005_007.fits\n",
      "Reading 20211005_008.fits\n",
      "Reading 20211005_009.fits\n",
      "Reading 20211005_010.fits\n",
      "Dark current correction with Dark.fits: \n",
      "Flat image meadian = 26287.080000\n",
      "Dark current correction with Dark.fits: \n",
      "Flat image meadian = 20695.264000\n",
      "Dark current correction with Dark.fits: \n",
      "Flat image meadian = 20081.717333\n",
      "Dark current correction with Dark.fits: \n",
      "Flat image meadian = 17208.009333\n",
      "Dark current correction with Dark.fits: \n",
      "Flat image meadian = 16890.645333\n",
      "Warning: 'GAIN' header keyword not found.\n",
      "Warning: 'RDNOISE' header keyword not found.\n",
      "flatcombine output file name: Flat_V.fits\n"
     ]
    },
    {
     "data": {
      "text/plain": [
       "'Flat_V.fits'"
      ]
     },
     "execution_count": 9,
     "metadata": {},
     "output_type": "execute_result"
    }
   ],
   "source": [
    "cc.flatcombine(input_list='flat_v_list.txt', dark_correction=True)"
   ]
  },
  {
   "cell_type": "code",
   "execution_count": 10,
   "id": "19aa35bd",
   "metadata": {},
   "outputs": [
    {
     "name": "stdout",
     "output_type": "stream",
     "text": [
      "Reading 20211005_011.fits\n",
      "Reading 20211005_012.fits\n",
      "Reading 20211005_013.fits\n",
      "Reading 20211005_014.fits\n",
      "Reading 20211005_015.fits\n",
      "Dark current correction with Dark.fits: \n",
      "Flat image meadian = 11968.940000\n",
      "Dark current correction with Dark.fits: \n",
      "Flat image meadian = 14579.096000\n",
      "Dark current correction with Dark.fits: \n",
      "Flat image meadian = 20582.400000\n",
      "Dark current correction with Dark.fits: \n",
      "Flat image meadian = 17489.700000\n",
      "Dark current correction with Dark.fits: \n",
      "Flat image meadian = 22080.425000\n",
      "Warning: 'GAIN' header keyword not found.\n",
      "Warning: 'RDNOISE' header keyword not found.\n",
      "flatcombine output file name: Flat_R.fits\n"
     ]
    },
    {
     "data": {
      "text/plain": [
       "'Flat_R.fits'"
      ]
     },
     "execution_count": 10,
     "metadata": {},
     "output_type": "execute_result"
    }
   ],
   "source": [
    "cc.flatcombine(input_list='flat_r_list.txt', dark_correction=True)"
   ]
  },
  {
   "cell_type": "markdown",
   "id": "e3b05b2c",
   "metadata": {},
   "source": [
    "By examining with **DS9** it seems that both of these images are correct as well."
   ]
  },
  {
   "cell_type": "markdown",
   "id": "e1480784",
   "metadata": {},
   "source": [
    "# Proccess the object images\n",
    "Again I start by getting help for the function."
   ]
  },
  {
   "cell_type": "code",
   "execution_count": 11,
   "id": "abfa0c16",
   "metadata": {},
   "outputs": [
    {
     "name": "stdout",
     "output_type": "stream",
     "text": [
      "Help on function ccdproc in module ccdred_sb:\n",
      "\n",
      "ccdproc(imdir='images/', input_list='object_list.txt', output_list=None, zero_file='Zero.fits', flat_file='Flat.fits', dark_correction=False, dark_file='Dark.fits')\n",
      "    Like IRAF's `ccdproc`. \n",
      "    \n",
      "    It currently works by: \n",
      "    \n",
      "    1. Subtract `zero_file` from each file in the `input_list` \n",
      "    2. Divide by `flat_file` from each file in the `input_list`\n",
      "    3. Write processed FITS files with name specified by `output_list`\n",
      "    \n",
      "    Parameters\n",
      "    ----------\n",
      "    input_list : str\n",
      "        Name of file containing list of input file names\n",
      "    output_list : str\n",
      "        Name of file containing output file names. If `output_list = None` the\n",
      "        filenames are the same as those in `input_list` with `_p` appended.\n",
      "    zero_file : str\n",
      "        Name of bias correction file\n",
      "    flat_file : str\n",
      "        Name of flat correction file       \n",
      "    dark_correction : boolean\n",
      "        applies dark correction if True\n",
      "    dark_file : str\n",
      "        dark current image file name\n",
      "        \n",
      "    Returns\n",
      "    -------\n",
      "    fout_list : list of str\n",
      "        List of names of the processed images.\n",
      "\n"
     ]
    }
   ],
   "source": [
    "help(cc.ccdproc)"
   ]
  },
  {
   "cell_type": "markdown",
   "id": "8c89be7b",
   "metadata": {},
   "source": [
    "For this function we need to change three input parameters:\n",
    "1. We need to change the `input_list` filename. We have three files for the three filters.\n",
    "2. We need to change `flat_file` to use the flat file for each of the three different filters.\n",
    "3. We need to change `dark_correction=True` to correct the images for dark current."
   ]
  },
  {
   "cell_type": "code",
   "execution_count": 12,
   "id": "9f318678",
   "metadata": {},
   "outputs": [
    {
     "name": "stdout",
     "output_type": "stream",
     "text": [
      "Running ccdproc\n",
      "Reading 20211005_062.fits\n",
      "Reading 20211005_063.fits\n",
      "Reading 20211005_064.fits\n",
      "Reading 20211005_065.fits\n",
      "Reading 20211005_066.fits\n",
      "Reading 20211005_067.fits\n",
      "Reading 20211005_068.fits\n",
      "Reading 20211005_069.fits\n",
      "Reading 20211005_070.fits\n",
      "Reading 20211005_071.fits\n",
      "Using dark current image: Dark.fits\n",
      "Using zero image: Zero.fits\n",
      "Using flat image: Flat_B.fits\n",
      "Warning: 'GAIN' header keyword not found.\n",
      "Warning: 'RDNOISE' header keyword not found.\n",
      "Using dark current image: Dark.fits\n",
      "Using zero image: Zero.fits\n",
      "Using flat image: Flat_B.fits\n",
      "Warning: 'GAIN' header keyword not found.\n",
      "Warning: 'RDNOISE' header keyword not found.\n",
      "Using dark current image: Dark.fits\n",
      "Using zero image: Zero.fits\n",
      "Using flat image: Flat_B.fits\n",
      "Warning: 'GAIN' header keyword not found.\n",
      "Warning: 'RDNOISE' header keyword not found.\n",
      "Using dark current image: Dark.fits\n",
      "Using zero image: Zero.fits\n",
      "Using flat image: Flat_B.fits\n",
      "Warning: 'GAIN' header keyword not found.\n",
      "Warning: 'RDNOISE' header keyword not found.\n",
      "Using dark current image: Dark.fits\n",
      "Using zero image: Zero.fits\n",
      "Using flat image: Flat_B.fits\n",
      "Warning: 'GAIN' header keyword not found.\n",
      "Warning: 'RDNOISE' header keyword not found.\n",
      "Using dark current image: Dark.fits\n",
      "Using zero image: Zero.fits\n",
      "Using flat image: Flat_B.fits\n",
      "Warning: 'GAIN' header keyword not found.\n",
      "Warning: 'RDNOISE' header keyword not found.\n",
      "Using dark current image: Dark.fits\n",
      "Using zero image: Zero.fits\n",
      "Using flat image: Flat_B.fits\n",
      "Warning: 'GAIN' header keyword not found.\n",
      "Warning: 'RDNOISE' header keyword not found.\n",
      "Using dark current image: Dark.fits\n",
      "Using zero image: Zero.fits\n",
      "Using flat image: Flat_B.fits\n",
      "Warning: 'GAIN' header keyword not found.\n",
      "Warning: 'RDNOISE' header keyword not found.\n",
      "Using dark current image: Dark.fits\n",
      "Using zero image: Zero.fits\n",
      "Using flat image: Flat_B.fits\n",
      "Warning: 'GAIN' header keyword not found.\n",
      "Warning: 'RDNOISE' header keyword not found.\n",
      "Using dark current image: Dark.fits\n",
      "Using zero image: Zero.fits\n",
      "Using flat image: Flat_B.fits\n",
      "Warning: 'GAIN' header keyword not found.\n",
      "Warning: 'RDNOISE' header keyword not found.\n"
     ]
    },
    {
     "data": {
      "text/plain": [
       "['20211005_062_p.fits',\n",
       " '20211005_063_p.fits',\n",
       " '20211005_064_p.fits',\n",
       " '20211005_065_p.fits',\n",
       " '20211005_066_p.fits',\n",
       " '20211005_067_p.fits',\n",
       " '20211005_068_p.fits',\n",
       " '20211005_069_p.fits',\n",
       " '20211005_070_p.fits',\n",
       " '20211005_071_p.fits']"
      ]
     },
     "execution_count": 12,
     "metadata": {},
     "output_type": "execute_result"
    }
   ],
   "source": [
    "cc.ccdproc(input_list='object_b_list.txt', flat_file='Flat_B.fits', dark_correction=True)"
   ]
  },
  {
   "cell_type": "code",
   "execution_count": 13,
   "id": "8098bca2",
   "metadata": {},
   "outputs": [
    {
     "name": "stdout",
     "output_type": "stream",
     "text": [
      "Running ccdproc\n",
      "Reading 20211005_037.fits\n",
      "Reading 20211005_038.fits\n",
      "Reading 20211005_039.fits\n",
      "Reading 20211005_040.fits\n",
      "Reading 20211005_041.fits\n",
      "Using dark current image: Dark.fits\n",
      "Using zero image: Zero.fits\n",
      "Using flat image: Flat_V.fits\n",
      "Warning: 'GAIN' header keyword not found.\n",
      "Warning: 'RDNOISE' header keyword not found.\n",
      "Using dark current image: Dark.fits\n",
      "Using zero image: Zero.fits\n",
      "Using flat image: Flat_V.fits\n",
      "Warning: 'GAIN' header keyword not found.\n",
      "Warning: 'RDNOISE' header keyword not found.\n",
      "Using dark current image: Dark.fits\n",
      "Using zero image: Zero.fits\n",
      "Using flat image: Flat_V.fits\n",
      "Warning: 'GAIN' header keyword not found.\n",
      "Warning: 'RDNOISE' header keyword not found.\n",
      "Using dark current image: Dark.fits\n",
      "Using zero image: Zero.fits\n",
      "Using flat image: Flat_V.fits\n",
      "Warning: 'GAIN' header keyword not found.\n",
      "Warning: 'RDNOISE' header keyword not found.\n",
      "Using dark current image: Dark.fits\n",
      "Using zero image: Zero.fits\n",
      "Using flat image: Flat_V.fits\n",
      "Warning: 'GAIN' header keyword not found.\n",
      "Warning: 'RDNOISE' header keyword not found.\n"
     ]
    },
    {
     "data": {
      "text/plain": [
       "['20211005_037_p.fits',\n",
       " '20211005_038_p.fits',\n",
       " '20211005_039_p.fits',\n",
       " '20211005_040_p.fits',\n",
       " '20211005_041_p.fits']"
      ]
     },
     "execution_count": 13,
     "metadata": {},
     "output_type": "execute_result"
    }
   ],
   "source": [
    "cc.ccdproc(input_list='object_v_list.txt', flat_file='Flat_V.fits', dark_correction=True)"
   ]
  },
  {
   "cell_type": "code",
   "execution_count": 14,
   "id": "037e15f1",
   "metadata": {},
   "outputs": [
    {
     "name": "stdout",
     "output_type": "stream",
     "text": [
      "Running ccdproc\n",
      "Reading 20211005_057.fits\n",
      "Reading 20211005_058.fits\n",
      "Reading 20211005_059.fits\n",
      "Reading 20211005_060.fits\n",
      "Reading 20211005_061.fits\n",
      "Using dark current image: Dark.fits\n",
      "Using zero image: Zero.fits\n",
      "Using flat image: Flat_R.fits\n",
      "Warning: 'GAIN' header keyword not found.\n",
      "Warning: 'RDNOISE' header keyword not found.\n",
      "Using dark current image: Dark.fits\n",
      "Using zero image: Zero.fits\n",
      "Using flat image: Flat_R.fits\n",
      "Warning: 'GAIN' header keyword not found.\n",
      "Warning: 'RDNOISE' header keyword not found.\n",
      "Using dark current image: Dark.fits\n",
      "Using zero image: Zero.fits\n",
      "Using flat image: Flat_R.fits\n",
      "Warning: 'GAIN' header keyword not found.\n",
      "Warning: 'RDNOISE' header keyword not found.\n",
      "Using dark current image: Dark.fits\n",
      "Using zero image: Zero.fits\n",
      "Using flat image: Flat_R.fits\n",
      "Warning: 'GAIN' header keyword not found.\n",
      "Warning: 'RDNOISE' header keyword not found.\n",
      "Using dark current image: Dark.fits\n",
      "Using zero image: Zero.fits\n",
      "Using flat image: Flat_R.fits\n",
      "Warning: 'GAIN' header keyword not found.\n",
      "Warning: 'RDNOISE' header keyword not found.\n"
     ]
    },
    {
     "data": {
      "text/plain": [
       "['20211005_057_p.fits',\n",
       " '20211005_058_p.fits',\n",
       " '20211005_059_p.fits',\n",
       " '20211005_060_p.fits',\n",
       " '20211005_061_p.fits']"
      ]
     },
     "execution_count": 14,
     "metadata": {},
     "output_type": "execute_result"
    }
   ],
   "source": [
    "cc.ccdproc(input_list='object_r_list.txt', flat_file='Flat_R.fits', dark_correction=True)"
   ]
  },
  {
   "cell_type": "markdown",
   "id": "5565f8a4",
   "metadata": {},
   "source": [
    "## Summary\n",
    "The final step is to examine the images to make sure they look reasonable. The next step is to see if there is any misalignments between the images and if there are align the images so we can sum them to get the best signal-to-noise ratio in the final image. Once we have the aligned and combined images we can use **DS9** to create color images of the objects."
   ]
  },
  {
   "cell_type": "code",
   "execution_count": null,
   "id": "2329cd24",
   "metadata": {},
   "outputs": [],
   "source": []
  }
 ],
 "metadata": {
  "kernelspec": {
   "display_name": "Python 3 (ipykernel)",
   "language": "python",
   "name": "python3"
  },
  "language_info": {
   "codemirror_mode": {
    "name": "ipython",
    "version": 3
   },
   "file_extension": ".py",
   "mimetype": "text/x-python",
   "name": "python",
   "nbconvert_exporter": "python",
   "pygments_lexer": "ipython3",
   "version": "3.8.10"
  }
 },
 "nbformat": 4,
 "nbformat_minor": 5
}
